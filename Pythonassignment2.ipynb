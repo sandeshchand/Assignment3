{
 "cells": [
  {
   "cell_type": "markdown",
   "metadata": {},
   "source": [
    "# 1.Write a Python Program to implement your own myreduce() function which works exactly\n"
   ]
  },
  {
   "cell_type": "code",
   "execution_count": 2,
   "metadata": {},
   "outputs": [
    {
     "name": "stdout",
     "output_type": "stream",
     "text": [
      "finalvalue is 35\n"
     ]
    }
   ],
   "source": [
    "my_list=[1,3,5,7,9,10]\n",
    "\n",
    "    \n",
    "def add (first_num,second_num):\n",
    "    return first_num + second_num\n",
    "\n",
    "\n",
    "def myreduce(addition,sequence):\n",
    "    first_num= sequence[0]\n",
    "    \n",
    "    for k in sequence[1:]:\n",
    "        first_num=addition(first_num ,k )\n",
    "    return first_num\n",
    "    \n",
    "    \n",
    "finalvalue=myreduce(add,my_list)\n",
    "print(\"finalvalue is {}\".format(finalvalue))"
   ]
  },
  {
   "cell_type": "markdown",
   "metadata": {},
   "source": [
    "# 1.2 Write a Python program to implement your own myfilter() function which works exactly like Python's built-in function filter()"
   ]
  },
  {
   "cell_type": "code",
   "execution_count": 138,
   "metadata": {},
   "outputs": [
    {
     "name": "stdout",
     "output_type": "stream",
     "text": [
      "Evennumber has been filterout as [10, 20, 22, 38]\n",
      "Oddnumber has been filterout as [1, 5, 7, 11, 15, 25]\n"
     ]
    }
   ],
   "source": [
    "num_list=[1,5,7,10,11,15,20,22,25,38]\n",
    "   \n",
    "def myfilter(num_list):\n",
    "    even_num=[]\n",
    "    odd_num=[]\n",
    "    for number in num_list:\n",
    "        if (number%2==0):\n",
    "            \n",
    "            even_num.append(number)\n",
    "        else:\n",
    "            \n",
    "            odd_num.append(number)\n",
    "    return even_num,odd_num   \n",
    "        \n",
    "        \n",
    "\n",
    "finalnumber=myfilter(num_list)\n",
    "print(\"Evennumber has been filterout as {}\".format(finalnumber[0]))\n",
    "print(\"Oddnumber has been filterout as {}\".format(finalnumber[1]))"
   ]
  },
  {
   "cell_type": "markdown",
   "metadata": {},
   "source": [
    "# 2. Implement List comprehensions to produce the following lists.\n",
    "Write List comprehensions to produce the following Lists\n",
    "\n",
    "['x', 'xx', 'xxx', 'xxxx', 'y', 'yy', 'yyy', 'yyyy', 'z', 'zz', 'zzz', 'zzzz']\n",
    "['x', 'y', 'z', 'xx', 'yy', 'zz', 'xxx', 'yyy', 'zzz', 'xxxx', 'yyyy', 'zzzz']\n",
    "[[2], [3], [4], [3], [4], [5], [4], [5], [6]] [[2, 3, 4, 5], [3, 4, 5, 6],\n",
    "[4, 5, 6, 7], [5, 6, 7, 8]]\n",
    "[(1, 1), (2, 1), (3, 1), (1, 2), (2, 2), (3, 2), (1, 3), (2, 3), (3, 3)]"
   ]
  },
  {
   "cell_type": "code",
   "execution_count": 165,
   "metadata": {},
   "outputs": [
    {
     "name": "stdout",
     "output_type": "stream",
     "text": [
      "['x', 'xx', 'xxx', 'xxxx', 'y', 'yy', 'yyy', 'yyyy', 'z', 'zz', 'zzz', 'zzzz']\n"
     ]
    }
   ],
   "source": [
    "word='xyz'\n",
    "finalword=[]\n",
    "\n",
    "list2=[(word[x]*n) for x in range(len(word)) for n in range(1,5)]\n",
    "print(list2)"
   ]
  },
  {
   "cell_type": "code",
   "execution_count": 172,
   "metadata": {},
   "outputs": [
    {
     "name": "stdout",
     "output_type": "stream",
     "text": [
      "['x', 'y', 'z', 'xx', 'yy', 'zz', 'xxx', 'yyy', 'zzz', 'xxxx', 'yyyy', 'zzzz']\n"
     ]
    }
   ],
   "source": [
    "list2=[(word[x]*n) for n in range(1,5) for x in range(len(word))]\n",
    "print(list2)"
   ]
  },
  {
   "cell_type": "code",
   "execution_count": 205,
   "metadata": {},
   "outputs": [
    {
     "name": "stdout",
     "output_type": "stream",
     "text": [
      "[[2], [3], [4], [3], [4], [5], [4], [5], [6]]\n"
     ]
    }
   ],
   "source": [
    "\n",
    "number=[2,3,4]\n",
    "final_number=[[number[k] +n ] for k in range(len(number))for n in range(0,3) ]\n",
    "print(final_number)"
   ]
  },
  {
   "cell_type": "code",
   "execution_count": 211,
   "metadata": {},
   "outputs": [
    {
     "name": "stdout",
     "output_type": "stream",
     "text": [
      "[[2, 3, 4, 5], [3, 4, 5, 6], [4, 5, 6, 7], [5, 6, 7, 8]]\n"
     ]
    }
   ],
   "source": [
    "number=[2,3,4,5]\n",
    "final_number=[[k + n   for n in range(0,4)] for k in (number) ]\n",
    "print(final_number)"
   ]
  },
  {
   "cell_type": "code",
   "execution_count": 212,
   "metadata": {},
   "outputs": [
    {
     "name": "stdout",
     "output_type": "stream",
     "text": [
      "[(1, 1), (1, 2), (1, 3), (2, 1), (2, 2), (2, 3), (3, 1), (3, 2), (3, 3)]\n"
     ]
    }
   ],
   "source": [
    "number=[1,2,3]\n",
    "output=[(a,b) for a in number for b in number]\n",
    "print(output)"
   ]
  },
  {
   "cell_type": "code",
   "execution_count": 178,
   "metadata": {},
   "outputs": [],
   "source": [
    "\n",
    "##extra practice\n",
    "\n",
    "def list():\n",
    "    try:\n",
    "        my_list=[]\n",
    "        while True:\n",
    "            number = int(input(\"Please enter the number in the basket:\"))\n",
    "            my_list.append(number)\n",
    "    except:\n",
    "        print('Not a number', my_list)\n",
    "\n",
    "    finally:\n",
    "        print('Finally! i got the list')\n",
    "\n",
    "\n",
    "\n",
    "        \n",
    "        \n"
   ]
  },
  {
   "cell_type": "code",
   "execution_count": null,
   "metadata": {},
   "outputs": [],
   "source": []
  }
 ],
 "metadata": {
  "kernelspec": {
   "display_name": "Python 3",
   "language": "python",
   "name": "python3"
  },
  "language_info": {
   "codemirror_mode": {
    "name": "ipython",
    "version": 3
   },
   "file_extension": ".py",
   "mimetype": "text/x-python",
   "name": "python",
   "nbconvert_exporter": "python",
   "pygments_lexer": "ipython3",
   "version": "3.6.8"
  }
 },
 "nbformat": 4,
 "nbformat_minor": 2
}
